{
 "cells": [
  {
   "cell_type": "code",
   "execution_count": 1,
   "metadata": {
    "collapsed": true
   },
   "outputs": [],
   "source": [
    "from PathFinder import PathFinder\n",
    "from scipy.sparse import csr_matrix"
   ]
  },
  {
   "cell_type": "code",
   "execution_count": 2,
   "metadata": {
    "collapsed": true
   },
   "outputs": [],
   "source": [
    "path_finder = PathFinder()"
   ]
  },
  {
   "cell_type": "code",
   "execution_count": 3,
   "metadata": {
    "collapsed": false
   },
   "outputs": [
    {
     "data": {
      "text/plain": [
       "u'FR458'"
      ]
     },
     "execution_count": 3,
     "metadata": {},
     "output_type": "execute_result"
    }
   ],
   "source": [
    "path_finder.cou_ind2name(1)"
   ]
  },
  {
   "cell_type": "code",
   "execution_count": 4,
   "metadata": {
    "collapsed": false
   },
   "outputs": [
    {
     "data": {
      "text/plain": [
       "1"
      ]
     },
     "execution_count": 4,
     "metadata": {},
     "output_type": "execute_result"
    }
   ],
   "source": [
    "path_finder.cou_name2ind(\"FR458\")"
   ]
  },
  {
   "cell_type": "code",
   "execution_count": 5,
   "metadata": {
    "collapsed": false
   },
   "outputs": [
    {
     "data": {
      "text/plain": [
       "[u'Accounting (ACCTG)',\n",
       " u'Aerospace Engineering (AERSP)',\n",
       " u'African American Studies (AFAM)',\n",
       " u'African Studies (AFR)',\n",
       " u'African and African American Studies (AAAS)',\n",
       " u'Agribusiness Management (AGBM)',\n",
       " u'Agricultural Science (AGSC)',\n",
       " u'Agricultural Systems Management (ASM)',\n",
       " u'Agricultural and Extension Education (AEE)',\n",
       " u'Agriculture (AG)']"
      ]
     },
     "execution_count": 5,
     "metadata": {},
     "output_type": "execute_result"
    }
   ],
   "source": [
    "path_finder.sub_list[:10]"
   ]
  },
  {
   "cell_type": "code",
   "execution_count": 6,
   "metadata": {
    "collapsed": false,
    "scrolled": true
   },
   "outputs": [
    {
     "name": "stdout",
     "output_type": "stream",
     "text": [
      "<class 'scipy.sparse.csr.csr_matrix'>\n",
      "8193\n"
     ]
    }
   ],
   "source": [
    "graph_prerequisite = path_finder.show_graph_prerequisite()\n",
    "print type(graph_prerequisite)\n",
    "print graph_prerequisite.nnz\n",
    "# print graph_prerequisite"
   ]
  },
  {
   "cell_type": "code",
   "execution_count": 7,
   "metadata": {
    "collapsed": false
   },
   "outputs": [
    {
     "name": "stdout",
     "output_type": "stream",
     "text": [
      "0 0\n",
      "1 11\n"
     ]
    }
   ],
   "source": [
    "for target_ind in [0,1]:\n",
    "    path_prerequisite = path_finder.path_finder_prerequisite(target_ind=target_ind, source_inds=[])\n",
    "#     if path_prerequisite.nnz < 1:\n",
    "#         continue\n",
    "    print target_ind, path_prerequisite.nnz"
   ]
  },
  {
   "cell_type": "code",
   "execution_count": 8,
   "metadata": {
    "collapsed": false
   },
   "outputs": [
    {
     "name": "stdout",
     "output_type": "stream",
     "text": [
      "<class 'scipy.sparse.csr.csr_matrix'>\n",
      "91243\n"
     ]
    }
   ],
   "source": [
    "# performance graph #\n",
    "graph_prior = path_finder.show_graph_prior() \n",
    "print type(graph_prior)\n",
    "print graph_prior.nnz"
   ]
  },
  {
   "cell_type": "code",
   "execution_count": 9,
   "metadata": {
    "collapsed": false
   },
   "outputs": [
    {
     "name": "stdout",
     "output_type": "stream",
     "text": [
      "0 2\n",
      "1 0\n",
      "2 0\n"
     ]
    },
    {
     "name": "stderr",
     "output_type": "stream",
     "text": [
      "PathFinder.py:218: UserWarning: too many dependency as max_dependency=3\n",
      "  warnings.warn(\"too many dependency as max_dependency=%d\" % max_dependency)\n"
     ]
    },
    {
     "name": "stdout",
     "output_type": "stream",
     "text": [
      "3 3\n",
      "4 3\n",
      "5 4\n",
      "6 0\n",
      "7 1\n",
      "8 0\n",
      "9 0\n"
     ]
    }
   ],
   "source": [
    "for target_ind in range(10):\n",
    "    path_prior = path_finder.path_finder_prior(target_ind=target_ind, source_inds=[])\n",
    "    print target_ind, path_prior.nnz"
   ]
  },
  {
   "cell_type": "code",
   "execution_count": 10,
   "metadata": {
    "collapsed": false
   },
   "outputs": [
    {
     "name": "stdout",
     "output_type": "stream",
     "text": [
      "0.131493420296\n",
      "0.549566427578\n",
      "0.85234394361\n"
     ]
    }
   ],
   "source": [
    "target_ind = 9\n",
    "source_inds = []\n",
    "grade = path_finder.grade_estimate(target_ind=target_ind, source_inds=source_inds)\n",
    "print grade\n",
    "\n",
    "target_ind = 9\n",
    "source_inds = list(range(10))\n",
    "grade = path_finder.grade_estimate(target_ind=target_ind, source_inds=source_inds)\n",
    "print grade\n",
    "\n",
    "target_ind = 9\n",
    "source_inds = list(range(10))\n",
    "grades = [0.8] * len(source_inds)\n",
    "grade = path_finder.grade_estimate(target_ind=target_ind, source_inds=source_inds, course_grades=grades)\n",
    "print grade"
   ]
  },
  {
   "cell_type": "code",
   "execution_count": 11,
   "metadata": {
    "collapsed": false
   },
   "outputs": [
    {
     "name": "stdout",
     "output_type": "stream",
     "text": [
      "[u'HIST150', u'HUM150', u'KOR099', u'KOR120', u'KOR121', u'KOR424', u'KOR425', u'KOR494H']\n",
      "[u'HM486', u'IST111', u'IST234', u'IST235', u'IST255', u'IST295A', u'IST296', u'IST297', u'IST298', u'IST337', u'IST398', u'IST423', u'IST445', u'IST446', u'IST452', u'IST453', u'IST454', u'IST462', u'IST496', u'IST497', u'IST497A']\n"
     ]
    }
   ],
   "source": [
    "print path_finder.show_mandatory_remain(sub=\"KOR\", source_inds=[])\n",
    "print path_finder.show_mandatory_remain(sub=\"IST\", source_inds=[3842, 4586])"
   ]
  },
  {
   "cell_type": "code",
   "execution_count": 16,
   "metadata": {
    "collapsed": false
   },
   "outputs": [
    {
     "ename": "ValueError",
     "evalue": "sub_name: ACCOUNTING (ACCTG) not found, did you mean []?",
     "output_type": "error",
     "traceback": [
      "\u001b[0;31m---------------------------------------------------------------------------\u001b[0m",
      "\u001b[0;31mValueError\u001b[0m                                Traceback (most recent call last)",
      "\u001b[0;32m<ipython-input-16-0864a541d737>\u001b[0m in \u001b[0;36m<module>\u001b[0;34m()\u001b[0m\n\u001b[0;32m----> 1\u001b[0;31m \u001b[1;32mprint\u001b[0m \u001b[0mpath_finder\u001b[0m\u001b[1;33m.\u001b[0m\u001b[0mshow_mandatory_remain\u001b[0m\u001b[1;33m(\u001b[0m\u001b[0msub\u001b[0m\u001b[1;33m=\u001b[0m\u001b[1;34m\"Accounting (ACCTG)\"\u001b[0m\u001b[1;33m,\u001b[0m \u001b[0msource_inds\u001b[0m\u001b[1;33m=\u001b[0m\u001b[1;33m[\u001b[0m\u001b[1;33m]\u001b[0m\u001b[1;33m)\u001b[0m\u001b[1;33m\u001b[0m\u001b[0m\n\u001b[0m",
      "\u001b[0;32mC:\\Users\\zjs50\\PycharmProjects\\NittanyAI_backend\\PathFinder.py\u001b[0m in \u001b[0;36mshow_mandatory_remain\u001b[0;34m(self, sub, source_inds)\u001b[0m\n\u001b[1;32m    133\u001b[0m         \u001b[1;33m:\u001b[0m\u001b[1;32mreturn\u001b[0m\u001b[1;33m:\u001b[0m \u001b[0mlist\u001b[0m \u001b[0mof\u001b[0m \u001b[0mcourse\u001b[0m \u001b[0mindex\u001b[0m\u001b[1;33m\u001b[0m\u001b[0m\n\u001b[1;32m    134\u001b[0m         \"\"\"\n\u001b[0;32m--> 135\u001b[0;31m         \u001b[0msub\u001b[0m \u001b[1;33m=\u001b[0m \u001b[0mself\u001b[0m\u001b[1;33m.\u001b[0m\u001b[0msub_find\u001b[0m\u001b[1;33m(\u001b[0m\u001b[0msub\u001b[0m\u001b[1;33m)\u001b[0m\u001b[1;33m\u001b[0m\u001b[0m\n\u001b[0m\u001b[1;32m    136\u001b[0m         \u001b[0mmandatory_total\u001b[0m \u001b[1;33m=\u001b[0m \u001b[0mself\u001b[0m\u001b[1;33m.\u001b[0m\u001b[0mgraph_sub_mandatory\u001b[0m\u001b[1;33m[\u001b[0m\u001b[0msub\u001b[0m\u001b[1;33m]\u001b[0m\u001b[1;33m\u001b[0m\u001b[0m\n\u001b[1;32m    137\u001b[0m         \u001b[0mmendatory_remain\u001b[0m \u001b[1;33m=\u001b[0m \u001b[0mlist\u001b[0m\u001b[1;33m(\u001b[0m\u001b[0mset\u001b[0m\u001b[1;33m(\u001b[0m\u001b[0mmandatory_total\u001b[0m\u001b[1;33m)\u001b[0m \u001b[1;33m-\u001b[0m \u001b[0mset\u001b[0m\u001b[1;33m(\u001b[0m\u001b[0msource_inds\u001b[0m\u001b[1;33m)\u001b[0m\u001b[1;33m)\u001b[0m\u001b[1;33m\u001b[0m\u001b[0m\n",
      "\u001b[0;32mC:\\Users\\zjs50\\PycharmProjects\\NittanyAI_backend\\PathFinder.py\u001b[0m in \u001b[0;36msub_find\u001b[0;34m(self, sub_name)\u001b[0m\n\u001b[1;32m     58\u001b[0m         \u001b[1;31m# not found #\u001b[0m\u001b[1;33m\u001b[0m\u001b[1;33m\u001b[0m\u001b[0m\n\u001b[1;32m     59\u001b[0m         \u001b[0mcand_list\u001b[0m \u001b[1;33m=\u001b[0m \u001b[0mdifflib\u001b[0m\u001b[1;33m.\u001b[0m\u001b[0mget_close_matches\u001b[0m\u001b[1;33m(\u001b[0m\u001b[0msub_name\u001b[0m\u001b[1;33m,\u001b[0m \u001b[0mself\u001b[0m\u001b[1;33m.\u001b[0m\u001b[0msub_list\u001b[0m\u001b[1;33m,\u001b[0m \u001b[0mn\u001b[0m\u001b[1;33m=\u001b[0m\u001b[1;36m5\u001b[0m\u001b[1;33m)\u001b[0m\u001b[1;33m\u001b[0m\u001b[0m\n\u001b[0;32m---> 60\u001b[0;31m         \u001b[1;32mraise\u001b[0m \u001b[0mValueError\u001b[0m\u001b[1;33m(\u001b[0m\u001b[1;34m\"sub_name: %s not found, did you mean %s?\"\u001b[0m \u001b[1;33m%\u001b[0m \u001b[1;33m(\u001b[0m\u001b[0msub_name\u001b[0m\u001b[1;33m,\u001b[0m \u001b[0mstr\u001b[0m\u001b[1;33m(\u001b[0m\u001b[0mcand_list\u001b[0m\u001b[1;33m)\u001b[0m\u001b[1;33m)\u001b[0m\u001b[1;33m)\u001b[0m\u001b[1;33m\u001b[0m\u001b[0m\n\u001b[0m\u001b[1;32m     61\u001b[0m \u001b[1;33m\u001b[0m\u001b[0m\n\u001b[1;32m     62\u001b[0m     \u001b[1;31m##################################################################################################################\u001b[0m\u001b[1;33m\u001b[0m\u001b[1;33m\u001b[0m\u001b[0m\n",
      "\u001b[0;31mValueError\u001b[0m: sub_name: ACCOUNTING (ACCTG) not found, did you mean []?"
     ]
    }
   ],
   "source": [
    "print path_finder.show_mandatory_remain(sub=\"Accounting (ACCTG)\", source_inds=[])"
   ]
  }
 ],
 "metadata": {
  "anaconda-cloud": {},
  "kernelspec": {
   "display_name": "Python [default]",
   "language": "python",
   "name": "python2"
  },
  "language_info": {
   "codemirror_mode": {
    "name": "ipython",
    "version": 2
   },
   "file_extension": ".py",
   "mimetype": "text/x-python",
   "name": "python",
   "nbconvert_exporter": "python",
   "pygments_lexer": "ipython2",
   "version": "2.7.12"
  }
 },
 "nbformat": 4,
 "nbformat_minor": 2
}
