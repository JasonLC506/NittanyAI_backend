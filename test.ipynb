{
 "cells": [
  {
   "cell_type": "code",
   "execution_count": 1,
   "metadata": {
    "collapsed": true
   },
   "outputs": [],
   "source": [
    "from PathFinder import PathFinder\n",
    "from scipy.sparse import csr_matrix"
   ]
  },
  {
   "cell_type": "code",
   "execution_count": 2,
   "metadata": {
    "collapsed": true
   },
   "outputs": [],
   "source": [
    "path_finder = PathFinder()"
   ]
  },
  {
   "cell_type": "code",
   "execution_count": 3,
   "metadata": {},
   "outputs": [
    {
     "data": {
      "text/plain": [
       "u'MATH 318'"
      ]
     },
     "execution_count": 3,
     "metadata": {},
     "output_type": "execute_result"
    }
   ],
   "source": [
    "path_finder.cou_ind2name(0)"
   ]
  },
  {
   "cell_type": "code",
   "execution_count": 4,
   "metadata": {},
   "outputs": [
    {
     "data": {
      "text/plain": [
       "0"
      ]
     },
     "execution_count": 4,
     "metadata": {},
     "output_type": "execute_result"
    }
   ],
   "source": [
    "path_finder.cou_name2ind(\"MATH 318\")"
   ]
  },
  {
   "cell_type": "code",
   "execution_count": 5,
   "metadata": {},
   "outputs": [
    {
     "data": {
      "text/plain": [
       "u'AFR'"
      ]
     },
     "execution_count": 5,
     "metadata": {},
     "output_type": "execute_result"
    }
   ],
   "source": [
    "path_finder.sub_ind2name(3)"
   ]
  },
  {
   "cell_type": "code",
   "execution_count": 6,
   "metadata": {},
   "outputs": [
    {
     "data": {
      "text/plain": [
       "u'AFR'"
      ]
     },
     "execution_count": 6,
     "metadata": {},
     "output_type": "execute_result"
    }
   ],
   "source": [
    "path_finder.sub_ind2name(\"3\")"
   ]
  },
  {
   "cell_type": "code",
   "execution_count": 7,
   "metadata": {},
   "outputs": [
    {
     "data": {
      "text/plain": [
       "3"
      ]
     },
     "execution_count": 7,
     "metadata": {},
     "output_type": "execute_result"
    }
   ],
   "source": [
    "path_finder.sub_name2ind(\"AFR\")"
   ]
  },
  {
   "cell_type": "code",
   "execution_count": 8,
   "metadata": {
    "scrolled": true
   },
   "outputs": [
    {
     "name": "stdout",
     "output_type": "stream",
     "text": [
      "<class 'scipy.sparse.csr.csr_matrix'>\n",
      "4305\n"
     ]
    }
   ],
   "source": [
    "graph_prerequisite = path_finder.show_graph_prerequisite()\n",
    "print type(graph_prerequisite)\n",
    "print graph_prerequisite.nnz\n",
    "# print graph_prerequisite"
   ]
  },
  {
   "cell_type": "code",
   "execution_count": 9,
   "metadata": {},
   "outputs": [
    {
     "name": "stdout",
     "output_type": "stream",
     "text": [
      "0 2\n",
      "1 0\n"
     ]
    }
   ],
   "source": [
    "for target_ind in [0,1]:\n",
    "    path_prerequisite = path_finder.path_finder_prerequisite(target_ind=target_ind, source_inds=[])\n",
    "#     if path_prerequisite.nnz < 1:\n",
    "#         continue\n",
    "    print target_ind, path_prerequisite.nnz"
   ]
  },
  {
   "cell_type": "code",
   "execution_count": 10,
   "metadata": {},
   "outputs": [
    {
     "name": "stdout",
     "output_type": "stream",
     "text": [
      "<class 'scipy.sparse.csr.csr_matrix'>\n",
      "11553\n"
     ]
    }
   ],
   "source": [
    "# performance graph #\n",
    "graph_prior = path_finder.show_graph_prior() \n",
    "print type(graph_prior)\n",
    "print graph_prior.nnz"
   ]
  },
  {
   "cell_type": "code",
   "execution_count": 11,
   "metadata": {},
   "outputs": [
    {
     "name": "stdout",
     "output_type": "stream",
     "text": [
      "0 0\n",
      "1 0\n"
     ]
    },
    {
     "name": "stderr",
     "output_type": "stream",
     "text": [
      "PathFinder.py:207: UserWarning: too many dependency as max_dependency=3\n",
      "  warnings.warn(\"too many dependency as max_dependency=%d\" % max_dependency)\n",
      "PathFinder.py:155: UserWarning: too deep path as max_depth=3\n",
      "  warnings.warn(\"too deep path as max_depth=%d\" % max_depth)\n"
     ]
    },
    {
     "name": "stdout",
     "output_type": "stream",
     "text": [
      "2 10\n",
      "3 0\n",
      "4 0\n",
      "5 10\n",
      "6 0\n",
      "7 6\n",
      "8 4\n",
      "9 11\n"
     ]
    }
   ],
   "source": [
    "for target_ind in range(10):\n",
    "    path_prior = path_finder.path_finder_prior(target_ind=target_ind, source_inds=[])\n",
    "    print target_ind, path_prior.nnz"
   ]
  },
  {
   "cell_type": "code",
   "execution_count": 12,
   "metadata": {},
   "outputs": [
    {
     "name": "stdout",
     "output_type": "stream",
     "text": [
      "0.47974416959\n",
      "0.489735371236\n"
     ]
    }
   ],
   "source": [
    "target_ind = 9\n",
    "source_inds = []\n",
    "grade = path_finder.grade_estimate(target_ind=target_ind, source_inds=source_inds)\n",
    "print grade\n",
    "\n",
    "target_ind = 9\n",
    "source_inds = list(range(5000))\n",
    "grade = path_finder.grade_estimate(target_ind=target_ind, source_inds=source_inds)\n",
    "print grade"
   ]
  },
  {
   "cell_type": "code",
   "execution_count": 13,
   "metadata": {},
   "outputs": [
    {
     "name": "stdout",
     "output_type": "stream",
     "text": [
      "[2626, 3786, 3838, 3842, 3844, 3848, 3995, 3997, 3999, 4325, 4327, 4580, 4581, 4582, 4583, 4586, 4589, 4907, 4911, 4913, 5161, 5165]\n",
      "[2626, 3786, 3838, 3844, 3848, 3995, 3997, 3999, 4325, 4327, 4580, 4581, 4582, 4583, 4589, 4907, 4911, 4913, 5161, 5165]\n"
     ]
    }
   ],
   "source": [
    "print path_finder.show_mandatory_remain(sub=3, source_inds=[])\n",
    "print path_finder.show_mandatory_remain(sub=3, source_inds=[3842, 4586])"
   ]
  },
  {
   "cell_type": "code",
   "execution_count": null,
   "metadata": {
    "collapsed": true
   },
   "outputs": [],
   "source": []
  }
 ],
 "metadata": {
  "kernelspec": {
   "display_name": "Python 2",
   "language": "python",
   "name": "python2"
  },
  "language_info": {
   "codemirror_mode": {
    "name": "ipython",
    "version": 2
   },
   "file_extension": ".py",
   "mimetype": "text/x-python",
   "name": "python",
   "nbconvert_exporter": "python",
   "pygments_lexer": "ipython2",
   "version": "2.7.13"
  }
 },
 "nbformat": 4,
 "nbformat_minor": 2
}
